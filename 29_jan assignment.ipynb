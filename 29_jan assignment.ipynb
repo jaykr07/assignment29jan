{
 "cells": [
  {
   "cell_type": "code",
   "execution_count": null,
   "id": "16a451ba-a7e9-41c2-a436-c2d9bde213f6",
   "metadata": {},
   "outputs": [],
   "source": [
    "1. The Python programming Language is developed by Guido van Rossum.\n",
    "\n",
    "2. Python support Object Oriented programming structured programming.\n",
    "\n",
    "3. Yes, python is a case sensitive language.\n",
    "\n",
    "4. .py is the correct extension of Python file.\n",
    "\n",
    "5. Python code is interpreted language.\n",
    "\n",
    "6. A module, a function body, a class definition are the blocks used to define in Python language.\n",
    "\n",
    "7. # character is used for single line comment in the python.\n",
    "\n",
    "8. The function sys.version can help us to find the version of python that we are currently working on.\n",
    "\n",
    "9. lambda\n",
    "\n",
    "10. pip Install Packages\n",
    "\n",
    "11. Some built in function are: str(),bool(),bytes(), list(),set(),dict(),tuple(),print(),type(),len(),int(),float() and many more.\n",
    "\n",
    "12. The maximum possible length of an identifier in Python is 79 charcaters.\n",
    "\n",
    "13. Benefits of learning python\n",
    "   (i).Data Science\n",
    "   (ii) web development\n",
    "   -Finance and Trading\n",
    "   -Computer Graphics\n",
    "   -Basic game development\n",
    "   -Security and testing and many more.\n",
    "   \n",
    "14. Memory management in python involves a private heap containing all Python objects and data structures. It is internally maintained by the Python memory manager.\n",
    "\n",
    "15. The complete path of python.exe can be added by:\n",
    "\n",
    "   a.)Right-clicking This PC and going to     Properties.\n",
    "\n",
    "   b.)Clicking on the Advanced system settings in the menu on the left.\n",
    "\n",
    "   c.)Clicking on the Environment Variables button  on the bottom right.\n",
    "\n",
    "   d.)In the System variables section, selecting the Path variable and clicking on Edit.\n",
    "    \n",
    "   e.)The next screen will show all the directories that are currently a part of the PATH variable.\n",
    "\n",
    "   f.)Clicking on New and entering Python’s install directory.\n",
    "     \n",
    "16. Yes, Identation is required in python."
   ]
  }
 ],
 "metadata": {
  "kernelspec": {
   "display_name": "Python 3 (ipykernel)",
   "language": "python",
   "name": "python3"
  },
  "language_info": {
   "codemirror_mode": {
    "name": "ipython",
    "version": 3
   },
   "file_extension": ".py",
   "mimetype": "text/x-python",
   "name": "python",
   "nbconvert_exporter": "python",
   "pygments_lexer": "ipython3",
   "version": "3.10.8"
  }
 },
 "nbformat": 4,
 "nbformat_minor": 5
}
